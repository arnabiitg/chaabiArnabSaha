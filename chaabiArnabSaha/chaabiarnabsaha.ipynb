{
 "cells": [
  {
   "cell_type": "code",
   "execution_count": 48,
   "metadata": {},
   "outputs": [],
   "source": [
    "from qdrant_client import models,QdrantClient\n",
    "from qdrant_client.http.models import PointStruct\n",
    "from tqdm import tqdm\n",
    "from sentence_transformers import SentenceTransformer\n",
    "from transformers import pipeline\n",
    "import pandas as pd"
   ]
  },
  {
   "cell_type": "code",
   "execution_count": 2,
   "metadata": {},
   "outputs": [
    {
     "data": {
      "application/vnd.jupyter.widget-view+json": {
       "model_id": "fe49cf1566aa47c4a2147ba076ce6504",
       "version_major": 2,
       "version_minor": 0
      },
      "text/plain": [
       "Downloading .gitattributes:   0%|          | 0.00/1.18k [00:00<?, ?B/s]"
      ]
     },
     "metadata": {},
     "output_type": "display_data"
    },
    {
     "data": {
      "application/vnd.jupyter.widget-view+json": {
       "model_id": "aec233196299446e893c346c09dc5b7a",
       "version_major": 2,
       "version_minor": 0
      },
      "text/plain": [
       "Downloading 1_Pooling/config.json:   0%|          | 0.00/190 [00:00<?, ?B/s]"
      ]
     },
     "metadata": {},
     "output_type": "display_data"
    },
    {
     "data": {
      "application/vnd.jupyter.widget-view+json": {
       "model_id": "a578289402b3417e890a9b28e4bfe58a",
       "version_major": 2,
       "version_minor": 0
      },
      "text/plain": [
       "Downloading README.md:   0%|          | 0.00/10.6k [00:00<?, ?B/s]"
      ]
     },
     "metadata": {},
     "output_type": "display_data"
    },
    {
     "data": {
      "application/vnd.jupyter.widget-view+json": {
       "model_id": "6507f1cc06ae4778b1f87b6050c3cdba",
       "version_major": 2,
       "version_minor": 0
      },
      "text/plain": [
       "Downloading config.json:   0%|          | 0.00/612 [00:00<?, ?B/s]"
      ]
     },
     "metadata": {},
     "output_type": "display_data"
    },
    {
     "data": {
      "application/vnd.jupyter.widget-view+json": {
       "model_id": "4cb497f6a3d74784a8a0a77dbf27b963",
       "version_major": 2,
       "version_minor": 0
      },
      "text/plain": [
       "Downloading (…)ce_transformers.json:   0%|          | 0.00/116 [00:00<?, ?B/s]"
      ]
     },
     "metadata": {},
     "output_type": "display_data"
    },
    {
     "data": {
      "application/vnd.jupyter.widget-view+json": {
       "model_id": "367cc66355084f2aa549ee56db987c68",
       "version_major": 2,
       "version_minor": 0
      },
      "text/plain": [
       "Downloading data_config.json:   0%|          | 0.00/39.3k [00:00<?, ?B/s]"
      ]
     },
     "metadata": {},
     "output_type": "display_data"
    },
    {
     "data": {
      "application/vnd.jupyter.widget-view+json": {
       "model_id": "92075d2d1cbe48098437c2e6676d982e",
       "version_major": 2,
       "version_minor": 0
      },
      "text/plain": [
       "Downloading pytorch_model.bin:   0%|          | 0.00/90.9M [00:00<?, ?B/s]"
      ]
     },
     "metadata": {},
     "output_type": "display_data"
    },
    {
     "data": {
      "application/vnd.jupyter.widget-view+json": {
       "model_id": "7abdd45f22474f57ad3198894b5b04df",
       "version_major": 2,
       "version_minor": 0
      },
      "text/plain": [
       "Downloading (…)nce_bert_config.json:   0%|          | 0.00/53.0 [00:00<?, ?B/s]"
      ]
     },
     "metadata": {},
     "output_type": "display_data"
    },
    {
     "data": {
      "application/vnd.jupyter.widget-view+json": {
       "model_id": "8cac8947fe234ec7b97fb04376f9359e",
       "version_major": 2,
       "version_minor": 0
      },
      "text/plain": [
       "Downloading (…)cial_tokens_map.json:   0%|          | 0.00/112 [00:00<?, ?B/s]"
      ]
     },
     "metadata": {},
     "output_type": "display_data"
    },
    {
     "data": {
      "application/vnd.jupyter.widget-view+json": {
       "model_id": "2ea3daa0bdcb4c3f9e0b28038e4fa096",
       "version_major": 2,
       "version_minor": 0
      },
      "text/plain": [
       "Downloading tokenizer.json:   0%|          | 0.00/466k [00:00<?, ?B/s]"
      ]
     },
     "metadata": {},
     "output_type": "display_data"
    },
    {
     "data": {
      "application/vnd.jupyter.widget-view+json": {
       "model_id": "43636727f41e429faa79b6408ec338f3",
       "version_major": 2,
       "version_minor": 0
      },
      "text/plain": [
       "Downloading tokenizer_config.json:   0%|          | 0.00/350 [00:00<?, ?B/s]"
      ]
     },
     "metadata": {},
     "output_type": "display_data"
    },
    {
     "data": {
      "application/vnd.jupyter.widget-view+json": {
       "model_id": "5742e01f1fed4d8a815b424d3f11528e",
       "version_major": 2,
       "version_minor": 0
      },
      "text/plain": [
       "Downloading train_script.py:   0%|          | 0.00/13.2k [00:00<?, ?B/s]"
      ]
     },
     "metadata": {},
     "output_type": "display_data"
    },
    {
     "data": {
      "application/vnd.jupyter.widget-view+json": {
       "model_id": "993ff75f8aa44d63b95f473871506651",
       "version_major": 2,
       "version_minor": 0
      },
      "text/plain": [
       "Downloading vocab.txt:   0%|          | 0.00/232k [00:00<?, ?B/s]"
      ]
     },
     "metadata": {},
     "output_type": "display_data"
    },
    {
     "data": {
      "application/vnd.jupyter.widget-view+json": {
       "model_id": "015a62c56ad04a618be5732be1e32cf0",
       "version_major": 2,
       "version_minor": 0
      },
      "text/plain": [
       "Downloading modules.json:   0%|          | 0.00/349 [00:00<?, ?B/s]"
      ]
     },
     "metadata": {},
     "output_type": "display_data"
    }
   ],
   "source": [
    "encoder = SentenceTransformer('all-MiniLM-L6-v2')"
   ]
  },
  {
   "cell_type": "code",
   "execution_count": 11,
   "metadata": {},
   "outputs": [
    {
     "name": "stdout",
     "output_type": "stream",
     "text": [
      "Products: 27555\n"
     ]
    },
    {
     "data": {
      "text/html": [
       "<div>\n",
       "<style scoped>\n",
       "    .dataframe tbody tr th:only-of-type {\n",
       "        vertical-align: middle;\n",
       "    }\n",
       "\n",
       "    .dataframe tbody tr th {\n",
       "        vertical-align: top;\n",
       "    }\n",
       "\n",
       "    .dataframe thead th {\n",
       "        text-align: right;\n",
       "    }\n",
       "</style>\n",
       "<table border=\"1\" class=\"dataframe\">\n",
       "  <thead>\n",
       "    <tr style=\"text-align: right;\">\n",
       "      <th></th>\n",
       "      <th>index</th>\n",
       "      <th>product</th>\n",
       "      <th>category</th>\n",
       "      <th>sub_category</th>\n",
       "      <th>brand</th>\n",
       "      <th>sale_price</th>\n",
       "      <th>market_price</th>\n",
       "      <th>type</th>\n",
       "      <th>rating</th>\n",
       "      <th>description</th>\n",
       "    </tr>\n",
       "  </thead>\n",
       "  <tbody>\n",
       "    <tr>\n",
       "      <th>0</th>\n",
       "      <td>1</td>\n",
       "      <td>Garlic Oil - Vegetarian Capsule 500 mg</td>\n",
       "      <td>Beauty &amp; Hygiene</td>\n",
       "      <td>Hair Care</td>\n",
       "      <td>Sri Sri Ayurveda</td>\n",
       "      <td>220.0</td>\n",
       "      <td>220.0</td>\n",
       "      <td>Hair Oil &amp; Serum</td>\n",
       "      <td>4.1</td>\n",
       "      <td>This Product contains Garlic Oil that is known...</td>\n",
       "    </tr>\n",
       "    <tr>\n",
       "      <th>1</th>\n",
       "      <td>2</td>\n",
       "      <td>Water Bottle - Orange</td>\n",
       "      <td>Kitchen, Garden &amp; Pets</td>\n",
       "      <td>Storage &amp; Accessories</td>\n",
       "      <td>Mastercook</td>\n",
       "      <td>180.0</td>\n",
       "      <td>180.0</td>\n",
       "      <td>Water &amp; Fridge Bottles</td>\n",
       "      <td>2.3</td>\n",
       "      <td>Each product is microwave safe (without lid), ...</td>\n",
       "    </tr>\n",
       "    <tr>\n",
       "      <th>2</th>\n",
       "      <td>3</td>\n",
       "      <td>Brass Angle Deep - Plain, No.2</td>\n",
       "      <td>Cleaning &amp; Household</td>\n",
       "      <td>Pooja Needs</td>\n",
       "      <td>Trm</td>\n",
       "      <td>119.0</td>\n",
       "      <td>250.0</td>\n",
       "      <td>Lamp &amp; Lamp Oil</td>\n",
       "      <td>3.4</td>\n",
       "      <td>A perfect gift for all occasions, be it your m...</td>\n",
       "    </tr>\n",
       "    <tr>\n",
       "      <th>3</th>\n",
       "      <td>4</td>\n",
       "      <td>Cereal Flip Lid Container/Storage Jar - Assort...</td>\n",
       "      <td>Cleaning &amp; Household</td>\n",
       "      <td>Bins &amp; Bathroom Ware</td>\n",
       "      <td>Nakoda</td>\n",
       "      <td>149.0</td>\n",
       "      <td>176.0</td>\n",
       "      <td>Laundry, Storage Baskets</td>\n",
       "      <td>3.7</td>\n",
       "      <td>Multipurpose container with an attractive desi...</td>\n",
       "    </tr>\n",
       "    <tr>\n",
       "      <th>4</th>\n",
       "      <td>5</td>\n",
       "      <td>Creme Soft Soap - For Hands &amp; Body</td>\n",
       "      <td>Beauty &amp; Hygiene</td>\n",
       "      <td>Bath &amp; Hand Wash</td>\n",
       "      <td>Nivea</td>\n",
       "      <td>162.0</td>\n",
       "      <td>162.0</td>\n",
       "      <td>Bathing Bars &amp; Soaps</td>\n",
       "      <td>4.4</td>\n",
       "      <td>Nivea Creme Soft Soap gives your skin the best...</td>\n",
       "    </tr>\n",
       "  </tbody>\n",
       "</table>\n",
       "</div>"
      ],
      "text/plain": [
       "   index                                            product   \n",
       "0      1             Garlic Oil - Vegetarian Capsule 500 mg  \\\n",
       "1      2                              Water Bottle - Orange   \n",
       "2      3                     Brass Angle Deep - Plain, No.2   \n",
       "3      4  Cereal Flip Lid Container/Storage Jar - Assort...   \n",
       "4      5                 Creme Soft Soap - For Hands & Body   \n",
       "\n",
       "                 category           sub_category              brand   \n",
       "0        Beauty & Hygiene              Hair Care  Sri Sri Ayurveda   \\\n",
       "1  Kitchen, Garden & Pets  Storage & Accessories         Mastercook   \n",
       "2    Cleaning & Household            Pooja Needs                Trm   \n",
       "3    Cleaning & Household   Bins & Bathroom Ware             Nakoda   \n",
       "4        Beauty & Hygiene       Bath & Hand Wash              Nivea   \n",
       "\n",
       "   sale_price  market_price                      type  rating   \n",
       "0       220.0         220.0          Hair Oil & Serum     4.1  \\\n",
       "1       180.0         180.0    Water & Fridge Bottles     2.3   \n",
       "2       119.0         250.0           Lamp & Lamp Oil     3.4   \n",
       "3       149.0         176.0  Laundry, Storage Baskets     3.7   \n",
       "4       162.0         162.0      Bathing Bars & Soaps     4.4   \n",
       "\n",
       "                                         description  \n",
       "0  This Product contains Garlic Oil that is known...  \n",
       "1  Each product is microwave safe (without lid), ...  \n",
       "2  A perfect gift for all occasions, be it your m...  \n",
       "3  Multipurpose container with an attractive desi...  \n",
       "4  Nivea Creme Soft Soap gives your skin the best...  "
      ]
     },
     "execution_count": 11,
     "metadata": {},
     "output_type": "execute_result"
    }
   ],
   "source": [
    "df = pd.read_csv(\"bigBasketProducts.csv\")\n",
    "print(f\"Products: {len(df)}\")\n",
    "df.head()"
   ]
  },
  {
   "cell_type": "code",
   "execution_count": 21,
   "metadata": {},
   "outputs": [],
   "source": [
    "documents = list(df.astype(\"str\").to_dict(orient=\"records\"))"
   ]
  },
  {
   "cell_type": "code",
   "execution_count": 14,
   "metadata": {},
   "outputs": [
    {
     "data": {
      "text/plain": [
       "{'index': 1,\n",
       " 'product': 'Garlic Oil - Vegetarian Capsule 500 mg',\n",
       " 'category': 'Beauty & Hygiene',\n",
       " 'sub_category': 'Hair Care',\n",
       " 'brand': 'Sri Sri Ayurveda ',\n",
       " 'sale_price': 220.0,\n",
       " 'market_price': 220.0,\n",
       " 'type': 'Hair Oil & Serum',\n",
       " 'rating': 4.1,\n",
       " 'description': 'This Product contains Garlic Oil that is known to help proper digestion, maintain proper cholesterol levels, support cardiovascular and also build immunity.  For Beauty tips, tricks & more visit https://bigbasket.blog/'}"
      ]
     },
     "execution_count": 14,
     "metadata": {},
     "output_type": "execute_result"
    }
   ],
   "source": [
    "documents[0]"
   ]
  },
  {
   "cell_type": "code",
   "execution_count": 26,
   "metadata": {},
   "outputs": [],
   "source": [
    "client = QdrantClient(\"localhost\", port=6333)"
   ]
  },
  {
   "cell_type": "code",
   "execution_count": 27,
   "metadata": {},
   "outputs": [
    {
     "data": {
      "text/plain": [
       "True"
      ]
     },
     "execution_count": 27,
     "metadata": {},
     "output_type": "execute_result"
    }
   ],
   "source": [
    "client.recreate_collection(\n",
    "    collection_name = \"products_data\",\n",
    "    vectors_config =  models.VectorParams(\n",
    "            size = encoder.get_sentence_embedding_dimension(),\n",
    "            distance = models.Distance.COSINE,\n",
    "            on_disk=True\n",
    "        )\n",
    ")"
   ]
  },
  {
   "cell_type": "code",
   "execution_count": 28,
   "metadata": {},
   "outputs": [
    {
     "name": "stderr",
     "output_type": "stream",
     "text": [
      "100%|██████████| 27555/27555 [35:53<00:00, 12.79it/s]  \n"
     ]
    }
   ],
   "source": [
    "for index in tqdm(range(len(documents))):\n",
    "    document = documents[index]\n",
    "    client.upsert(\n",
    "        collection_name=\"products_data\",\n",
    "        points=[\n",
    "            PointStruct(\n",
    "                id=index,\n",
    "                vector=encoder.encode(\n",
    "                    'description : ' + document['description'] +\n",
    "                    ' product : ' +  document['product'] +\n",
    "                    ' sub_category : '+ document['sub_category']+\n",
    "                    ' brand : ' + document['brand'] +\n",
    "                    ' typ : '+ document['type']\n",
    "                 ).tolist(),\n",
    "                payload= document,\n",
    "            )\n",
    "        ]\n",
    "    )"
   ]
  },
  {
   "cell_type": "code",
   "execution_count": null,
   "metadata": {},
   "outputs": [],
   "source": [
    "model_name = \"deepset/roberta-base-squad2\"\n",
    "\n",
    "nlp = pipeline(\"question-answering\",model = model_name,tokenizer=model_name)\n",
    "QA_input = {\n",
    "    'question': 'Why is model conversion important?',\n",
    "    'context': 'The option to convert models between FARM and transformers gives freedom to the user and let people easily switch between frameworks.'\n",
    "}\n",
    "res = nlp(QA_input)"
   ]
  },
  {
   "cell_type": "code",
   "execution_count": 50,
   "metadata": {},
   "outputs": [
    {
     "data": {
      "text/plain": [
       "{'score': 0.21171477437019348,\n",
       " 'start': 59,\n",
       " 'end': 84,\n",
       " 'answer': 'gives freedom to the user'}"
      ]
     },
     "execution_count": 50,
     "metadata": {},
     "output_type": "execute_result"
    }
   ],
   "source": [
    "res"
   ]
  },
  {
   "cell_type": "code",
   "execution_count": 74,
   "metadata": {},
   "outputs": [],
   "source": [
    "def get_results(query):\n",
    "    results = client.search(\n",
    "        collection_name='products_data',\n",
    "        query_vector=encoder.encode(query).tolist(),\n",
    "        limit=6)\n",
    "    # print(encoder.encode(query).tolist())\n",
    "    # val = sorted(results, key=lambda x: x[\"score\"], reverse=True)\n",
    "    # val = results[0]\n",
    "    context = [f\"brand is {dict(val)['payload']['brand']}\"+\n",
    "               f\" category is {dict(val)['payload']['category']}\"+ \n",
    "                f\" description is {dict(val)['payload']['description']}\"+\n",
    "                f\" market_price is {dict(val)['payload']['market_price']}\"+\n",
    "                f\" product is {dict(val)['payload']['product']}\"+\n",
    "                f\" rating is {dict(val)['payload']['rating']}\"\n",
    "                for val in results]\n",
    "    \n",
    "    # sorted_result = sorted(results, key=lambda x: x[\"score\"], reverse=True)\n",
    "    context = \". \".join(context)\n",
    "    context = str(results)\n",
    "    print(context)\n",
    "    input = {\n",
    "        'question':query,\n",
    "        'context':context\n",
    "    }\n",
    "    answer = nlp(input)\n",
    "    return answer"
   ]
  },
  {
   "cell_type": "code",
   "execution_count": 75,
   "metadata": {},
   "outputs": [
    {
     "name": "stdout",
     "output_type": "stream",
     "text": [
      "[ScoredPoint(id=27470, version=27470, score=0.6158729, payload={'brand': 'Ferrero', 'category': 'Gourmet & World Food', 'description': \"It's so delicious that a little goes a long way, A unique and unbeatable taste, Contains no artificial preservatives, Spread on your Bread for Breakfast to start Positively your day, Contains no artificial colours. Nutella® has an authentic taste of hazelnuts and cocoa and its unique creaminess intensifies the flavour. It is so delicious that even a small amount is highly satisfying: 15g/1 tbsp of Nutella spread on bread is enough to guarantee an unbeatable taste and a pleasurable experience.\", 'index': '27471', 'market_price': '650.0', 'product': 'Nutella', 'rating': '3.0', 'sale_price': '650.0', 'sub_category': 'Sauces, Spreads & Dips', 'type': 'Chocolate, Peanut Spread'}, vector=None), ScoredPoint(id=9420, version=9420, score=0.6158729, payload={'brand': 'Ferrero', 'category': 'Gourmet & World Food', 'description': \"It's so delicious that a little goes a long way, A unique and unbeatable taste, Contains no artificial preservatives, Spread on your Bread for Breakfast to start Positively your day, Contains no artificial colours. Nutella® has an authentic taste of hazelnuts and cocoa and its unique creaminess intensifies the flavour. It is so delicious that even a small amount is highly satisfying: 15g/1 tbsp of Nutella spread on bread is enough to guarantee an unbeatable taste and a pleasurable experience.\", 'index': '9421', 'market_price': '450.0', 'product': 'Nutella', 'rating': '3.3', 'sale_price': '450.0', 'sub_category': 'Sauces, Spreads & Dips', 'type': 'Chocolate, Peanut Spread'}, vector=None), ScoredPoint(id=13014, version=13014, score=0.5861988, payload={'brand': 'NUTRIWISH', 'category': 'Snacks & Branded Foods', 'description': 'Cook some exotic dishes with this yummy fusion of almonds, butter and whey protein from Nutriwish. Rich in sodium, protein, calcium, fibre and healthy fats, this healthy trio can improve stamina, lower cholesterol levels, control blood sugar and provide better immunity. It reduces the risk of inflammation, cancer and heart disease. Make your morning toast even yummier with some Nutriwish almond butter infused with whey protein! Nut Butter from Nutriwish is presented to you in its healthiest from with no added oil, no added sugar, no added salt and no added preservatives. Each Nut Butter product is made with 100% whole nuts.', 'index': '13015', 'market_price': '550.0', 'product': 'Almond Butter With Whey Protein', 'rating': 'nan', 'sale_price': '550.0', 'sub_category': 'Spreads, Sauces, Ketchup', 'type': 'Choco & Nut Spread'}, vector=None), ScoredPoint(id=13832, version=13832, score=0.5831063, payload={'brand': 'Nutella', 'category': 'Gourmet & World Food', 'description': 'Make your breakfast interesting with Nutella - hazelnut spread with cocoa. Packed with the richness of selected hazelnuts and delicious cocoa, it is the most trusted breakfast spread brand across the world. Nutella can be easily spread over bread, roti, dosa or idli and variety of other breakfast dishes. It is 100% vegetarian and contains no preservatives. Its unique flavour will leave you asking for more. So have a happy start to your mornings with Nutella- hazelnut spread with cocoa.\\r\\nSpread Happiness in the morning.', 'index': '13833', 'market_price': '380.0', 'product': 'Hazelnut Spread with Cocoa', 'rating': '4.5', 'sale_price': '308.0', 'sub_category': 'Sauces, Spreads & Dips', 'type': 'Chocolate, Peanut Spread'}, vector=None), ScoredPoint(id=24530, version=24530, score=0.5746982, payload={'brand': 'Open Secret', 'category': 'Snacks & Branded Foods', 'description': 'To be honest, we would put chocolate on anything. So, in terms of a product description, this product is as easy as it gets. With rich chocolate added to premium whole almonds, this creamy spread packs a lot of delicious flavour with every moms’ favourite source of proteins, Almonds! What do you get? Delicious, Creamy and Healthy Chocolate Almond Nutty Spread (175g) packed in an eco-friendly glass jar. Want to grab a spoon and try it already? We ensure that we match healthy to yummy so that you don’t feel guilty afterwards.\\nWhat’s in it?\\n• High on Protein: Contains 87% Almonds\\n• No Added Oil, No Preservatives and No Trans Fat\\n• Contains 70% less sugar than leading brands\\n• Handcrafted and made in India.\\n• Vegan', 'index': '24531', 'market_price': '350.0', 'product': 'Nutty Spread - Choco Almond, 87% Almond, 70% Less Sugar, No Added Oil, & Preservative', 'rating': '3.4', 'sale_price': '325.0', 'sub_category': 'Spreads, Sauces, Ketchup', 'type': 'Choco & Nut Spread'}, vector=None), ScoredPoint(id=1328, version=1328, score=0.57397455, payload={'brand': 'Nutty Yogi', 'category': 'Gourmet & World Food', 'description': 'Nutty Yogi Everyday Nutri Atta is made from natural and healthy ingredients. It is made from sorghum, amaranth, potato flakes, corn starch, gum, ajwain. It is wonderfully nutritious and a good source of protein, vitamins, minerals and dietary fibre. This flour has a light, mild flavour, making it perfect for everyday use. It is healthy and has several health benefits. It is 100 % natural without any preservative.', 'index': '1329', 'market_price': '50.0', 'product': 'Everyday Nutri Flour - Gluten Free', 'rating': '3.7', 'sale_price': '50.0', 'sub_category': 'Cooking & Baking Needs', 'type': 'Flours & Pre-Mixes'}, vector=None)]\n"
     ]
    },
    {
     "data": {
      "text/plain": [
       "{'score': 0.2834286093711853, 'start': 351, 'end': 359, 'answer': 'Nutella®'}"
      ]
     },
     "execution_count": 75,
     "metadata": {},
     "output_type": "execute_result"
    }
   ],
   "source": [
    "get_results(\"which product is produced by Nutrashil brand\")"
   ]
  },
  {
   "cell_type": "code",
   "execution_count": 41,
   "metadata": {},
   "outputs": [
    {
     "data": {
      "text/plain": [
       "{'brand': 'Ferrero',\n",
       " 'category': 'Gourmet & World Food',\n",
       " 'description': \"It's so delicious that a little goes a long way, A unique and unbeatable taste, Contains no artificial preservatives, Spread on your Bread for Breakfast to start Positively your day, Contains no artificial colours. Nutella® has an authentic taste of hazelnuts and cocoa and its unique creaminess intensifies the flavour. It is so delicious that even a small amount is highly satisfying: 15g/1 tbsp of Nutella spread on bread is enough to guarantee an unbeatable taste and a pleasurable experience.\",\n",
       " 'index': '27471',\n",
       " 'market_price': '650.0',\n",
       " 'product': 'Nutella',\n",
       " 'rating': '3.0',\n",
       " 'sale_price': '650.0',\n",
       " 'sub_category': 'Sauces, Spreads & Dips',\n",
       " 'type': 'Chocolate, Peanut Spread'}"
      ]
     },
     "execution_count": 41,
     "metadata": {},
     "output_type": "execute_result"
    }
   ],
   "source": [
    "dict(val[0])[\"payload\"]"
   ]
  },
  {
   "cell_type": "code",
   "execution_count": null,
   "metadata": {},
   "outputs": [],
   "source": []
  }
 ],
 "metadata": {
  "kernelspec": {
   "display_name": "Python 3",
   "language": "python",
   "name": "python3"
  },
  "language_info": {
   "codemirror_mode": {
    "name": "ipython",
    "version": 3
   },
   "file_extension": ".py",
   "mimetype": "text/x-python",
   "name": "python",
   "nbconvert_exporter": "python",
   "pygments_lexer": "ipython3",
   "version": "3.11.4"
  }
 },
 "nbformat": 4,
 "nbformat_minor": 2
}
